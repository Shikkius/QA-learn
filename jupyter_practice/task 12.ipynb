{
 "cells": [
  {
   "cell_type": "code",
   "execution_count": 1,
   "metadata": {},
   "outputs": [
    {
     "name": "stdout",
     "output_type": "stream",
     "text": [
      "5\n"
     ]
    }
   ],
   "source": [
    "a = [1, 2, 3, 4]\n",
    "b = ['1', '2', '3', '4']\n",
    "\n",
    "a += a\n",
    "b *= 2\n",
    "\n",
    "c = a[::-3] + b[1:3]\n",
    "\n",
    "print(len(c))"
   ]
  },
  {
   "cell_type": "code",
   "execution_count": 2,
   "metadata": {},
   "outputs": [
    {
     "data": {
      "text/plain": [
       "'два_'"
      ]
     },
     "execution_count": 2,
     "metadata": {},
     "output_type": "execute_result"
    }
   ],
   "source": [
    "'_'.join(['тест_','раз_', 'два_']).split('__')[2]"
   ]
  },
  {
   "cell_type": "code",
   "execution_count": 3,
   "metadata": {},
   "outputs": [
    {
     "name": "stdout",
     "output_type": "stream",
     "text": [
      "['iii', 'qqq', 'uuu', 'ййй', 'лллл', 'пппп']\n"
     ]
    }
   ],
   "source": [
    "a = ['ййй', 'пппп', 'лллл']\n",
    "b = ['qqq', 'uuu', 'iii']\n",
    "\n",
    "print(sorted(a+b))"
   ]
  },
  {
   "cell_type": "code",
   "execution_count": 4,
   "metadata": {},
   "outputs": [
    {
     "name": "stdout",
     "output_type": "stream",
     "text": [
      "567567567"
     ]
    }
   ],
   "source": [
    "a = [1, 2, 3]\n",
    "b = ['5', '6', '7']\n",
    "\n",
    "for i in a:\n",
    "    for j in b:\n",
    "        print(j, end='')"
   ]
  },
  {
   "cell_type": "code",
   "execution_count": 5,
   "metadata": {},
   "outputs": [
    {
     "name": "stdout",
     "output_type": "stream",
     "text": [
      "[[1, 2, 3], [4, 5, 6], [7, 8, 9], [10, 11, 12]]\n"
     ]
    }
   ],
   "source": [
    "a = []\n",
    "t = 1\n",
    "\n",
    "for i in range(1, 5):\n",
    "    b = []\n",
    "    for j in range(t, t + 3):\n",
    "        b.append(j)\n",
    "    t += 3\n",
    "    a.append(b)\n",
    "\n",
    "print(a)"
   ]
  },
  {
   "cell_type": "code",
   "execution_count": 6,
   "metadata": {},
   "outputs": [
    {
     "name": "stdout",
     "output_type": "stream",
     "text": [
      "Самый второй частый знак: \"s\"\n"
     ]
    }
   ],
   "source": [
    "text = \"\"\"Lorem ipsum dolor sit amet, consectetur adipiscing elit. Vestibulum eget tempus est. Phasellus sit amet \n",
    "tristique neque. Sed luctus mi ut nisi suscipit placerat. Nunc nec diam dapibus, fermentum risus ut, ultrices orci. \n",
    "Integer non magna molestie nibh dapibus tincidunt. Quisque quis est quam. Sed dictum mi sit amet magna pretium blandit. \n",
    "Nulla tortor turpis, maximus vitae lobortis quis, varius sed metus. Nullam at congue metus. Pellentesque scelerisque, dui \n",
    "et luctus semper, odio diam scelerisque justo, nec tempor ex metus et enim. Praesent rhoncus nisl eget risus elementum ornare. \n",
    "Praesent tellus mauris, viverra vitae malesuada at, ornare id nisi. Vestibulum.\"\"\"\n",
    "\n",
    "text = text.replace(\" \", \"\").lower()\n",
    "\n",
    "most_common = None\n",
    "qty_most_common = 0\n",
    "most_common2 = None\n",
    "qty_most_common2 = 0\n",
    "\n",
    "for item in text:\n",
    "    qty = text.count(item)\n",
    "    if qty >= qty_most_common:\n",
    "        qty_most_common = qty\n",
    "        most_common = item\n",
    "    elif qty > qty_most_common2:\n",
    "        qty_most_common2 = qty\n",
    "        most_common2 = item\n",
    "        \n",
    "print(f'Самый второй частый знак: \"{most_common2}\"')"
   ]
  },
  {
   "cell_type": "code",
   "execution_count": 7,
   "metadata": {},
   "outputs": [
    {
     "name": "stdout",
     "output_type": "stream",
     "text": [
      "Иван\n",
      "('date', '1989-02-021')\n",
      "{'name': 'Иван', 'sex': 'man'}\n"
     ]
    }
   ],
   "source": [
    "a = {'name': 'Иван', 'sex': 'man', 'date': '1989-02-021'}\n",
    "\n",
    "print (a['name'])\n",
    "print (a.popitem())\n",
    "print (a)"
   ]
  },
  {
   "cell_type": "code",
   "execution_count": 8,
   "metadata": {},
   "outputs": [
    {
     "data": {
      "text/plain": [
       "20.0"
      ]
     },
     "execution_count": 8,
     "metadata": {},
     "output_type": "execute_result"
    }
   ],
   "source": [
    "((67 + 33) * (25-20))/25"
   ]
  },
  {
   "cell_type": "code",
   "execution_count": 9,
   "metadata": {},
   "outputs": [
    {
     "name": "stdout",
     "output_type": "stream",
     "text": [
      "[[1, 2, 3, 4, 5], [6, 7, 8, 9, 10], [11, 12, 13, 14, 15], [16, 6, 18, 19, 20], [21, 22, 23, 24, 25]]\n"
     ]
    }
   ],
   "source": [
    "matrix = [[1, 2, 3, 4, 5], [6, 7, 8, 9, 10], [11, 12, 13, 14, 15], [16, 17, 18, 19, 20], [21, 22, 23, 24, 25]]\n",
    "matrix[3][1]=6\n",
    "print(matrix)"
   ]
  },
  {
   "cell_type": "code",
   "execution_count": 10,
   "metadata": {},
   "outputs": [
    {
     "name": "stdout",
     "output_type": "stream",
     "text": [
      "{1, 2}\n",
      "{0, 1, 2, 7, 8, 9}\n",
      "{1, 2, 6, 7, 8}\n",
      "set()\n"
     ]
    }
   ],
   "source": [
    "a1 = {0, 1, 2, 3, 4, 5, 6, 7, 8, 9}\n",
    "a2 = {1, 2}\n",
    "a3 = {6, 7, 8}\n",
    "a4 = {1, 1}\n",
    "a5 = {3, 4, 5, 6}\n",
    "\n",
    "print(a2 | a4)\n",
    "print(a1 - a5)\n",
    "print(a2 ^ a3)\n",
    "print(a1 & a2 & a3 & a4 & a5)"
   ]
  },
  {
   "cell_type": "code",
   "execution_count": 11,
   "metadata": {},
   "outputs": [
    {
     "name": "stdout",
     "output_type": "stream",
     "text": [
      "123-333-4455\n"
     ]
    }
   ],
   "source": [
    "a = {\n",
    "    'firstName':'Иван',\n",
    "    'lastName':'Иванов',\n",
    "    'isAlive':True,\n",
    "    'age':32,\n",
    "    'address':{\n",
    "        'streetAddress':'Нейбута 32',\n",
    "        'city':'Владивосток',\n",
    "        'state':'',\n",
    "        'postalCode':''\n",
    "    },\n",
    "    'phoneNumbers':[\n",
    "        {\n",
    "            'type':'mob',\n",
    "            'number':'123-333-4455'\n",
    "        },\n",
    "        {\n",
    "            'type':'office',\n",
    "            'number':'123 111-4567'\n",
    "        }\n",
    "    ],\n",
    "    'cildren':[],\n",
    "    'spouse':None\n",
    "}\n",
    "print(a['phoneNumbers'][0]['number'])"
   ]
  },
  {
   "cell_type": "code",
   "execution_count": 12,
   "metadata": {},
   "outputs": [
    {
     "name": "stdout",
     "output_type": "stream",
     "text": [
      "dgdrgrgwg\n",
      "Это не палиндром\n"
     ]
    }
   ],
   "source": [
    "string = input().replace(' ', '').lower()\n",
    "\n",
    "for i in range(len(string) // 2):\n",
    "    if string[i] != string[-1-i]:\n",
    "        print('Это не палиндром')\n",
    "        break\n",
    "else:\n",
    "    print('Это палиндром')"
   ]
  },
  {
   "cell_type": "code",
   "execution_count": 13,
   "metadata": {},
   "outputs": [
    {
     "name": "stdout",
     "output_type": "stream",
     "text": [
      "Введите e-mail'ы через запятую: mary.sh95@gmail.com, asjfdnajsdna@dssdf.com\n",
      "{'mary.sh95@gmail.com': True, 'asjfdnajsdna@dssdf.com': True}\n"
     ]
    }
   ],
   "source": [
    "list_email = input(\"Введите e-mail'ы через запятую: \").split(', ')\n",
    "\n",
    "dict_email = {}\n",
    "\n",
    "for i in list_email:\n",
    "    result = False\n",
    "    if '@' in i and i.count('@') >= 1:\n",
    "        name = i.split('@')[0]\n",
    "        if len(name) >= 2:\n",
    "            domen = i.split('@')[1]\n",
    "            if '.' in domen:\n",
    "                if len(domen.split('.')[0]) >= 2:\n",
    "                    if len(domen.split('.')[-1]) >= 2:\n",
    "                        result = True\n",
    "    dict_email[i] = result\n",
    "\n",
    "print(dict_email)"
   ]
  },
  {
   "cell_type": "code",
   "execution_count": null,
   "metadata": {},
   "outputs": [],
   "source": []
  }
 ],
 "metadata": {
  "kernelspec": {
   "display_name": "Python 3",
   "language": "python",
   "name": "python3"
  },
  "language_info": {
   "codemirror_mode": {
    "name": "ipython",
    "version": 3
   },
   "file_extension": ".py",
   "mimetype": "text/x-python",
   "name": "python",
   "nbconvert_exporter": "python",
   "pygments_lexer": "ipython3",
   "version": "3.7.6"
  }
 },
 "nbformat": 4,
 "nbformat_minor": 4
}
