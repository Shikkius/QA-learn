{
 "cells": [
  {
   "cell_type": "code",
   "execution_count": 1,
   "metadata": {},
   "outputs": [
    {
     "name": "stdout",
     "output_type": "stream",
     "text": [
      "Введи текст: terrtrth thrfrht\n",
      "terrtrth thrfrht\n"
     ]
    }
   ],
   "source": [
    "string = input(\"Введи текст: \")\n",
    "new_string = \"\"\n",
    "for letter in string:\n",
    "    if letter == \"a\" :\n",
    "        new_string += \"*\" \n",
    "    else:\n",
    "        new_string += letter\n",
    "print(new_string)"
   ]
  },
  {
   "cell_type": "code",
   "execution_count": 2,
   "metadata": {},
   "outputs": [
    {
     "name": "stdout",
     "output_type": "stream",
     "text": [
      "введи текст: agfda\n",
      "*gfd*\n"
     ]
    }
   ],
   "source": [
    "string = input(\"введи текст: \")\n",
    "string = string.replace(\"a\", \"*\")\n",
    "print(string)"
   ]
  },
  {
   "cell_type": "code",
   "execution_count": 3,
   "metadata": {},
   "outputs": [
    {
     "name": "stdout",
     "output_type": "stream",
     "text": [
      "Текст: hybb,l.\n",
      "hybb.l.\n"
     ]
    }
   ],
   "source": [
    "answer = input(\"Текст: \")\n",
    "answer = answer.replace(\",\", \".\")\n",
    "print(answer)"
   ]
  },
  {
   "cell_type": "code",
   "execution_count": 4,
   "metadata": {},
   "outputs": [
    {
     "name": "stdout",
     "output_type": "stream",
     "text": [
      "In the*hole*in*the*ground*there*lived*a hobbit\n"
     ]
    }
   ],
   "source": [
    "#Замените все символы пробела в строке на *, кроме первого и последнего пробелов.\n",
    "string = \"In the hole in the ground there lived a hobbit\"\n",
    "def string_replace(s):\n",
    "    il = s.find(\" \")\n",
    "    ir = s.rfind(\" \")\n",
    "    if il >= 0 and ir >= 0 and il < ir:\n",
    "#В этой строке мы заменяем все пробелы, кроме пробела, который встретился первым, и пробела, который встретился последним. \n",
    "        return (s[:il + 1] + s[il + 1:ir].replace(\" \", \"*\") + s[ir:])\n",
    "    else:\n",
    "        return s\n",
    "\n",
    "print(string_replace(string))"
   ]
  },
  {
   "cell_type": "code",
   "execution_count": 5,
   "metadata": {},
   "outputs": [
    {
     "name": "stdout",
     "output_type": "stream",
     "text": [
      "Введите сумму покупки: 5465\n",
      "Введите сумму покупки: 6546\n",
      "Введите сумму покупки: -348\n",
      "12011.0\n"
     ]
    }
   ],
   "source": [
    "amount = 0\n",
    "answer = float(input(\"Введите сумму покупки: \").replace(\",\",\".\"))\n",
    "while answer >= 0:\n",
    "    amount += answer\n",
    "    answer = float(input(\"Введите сумму покупки: \").replace(\",\",\".\"))\n",
    "print(amount)"
   ]
  },
  {
   "cell_type": "code",
   "execution_count": 6,
   "metadata": {},
   "outputs": [
    {
     "name": "stdout",
     "output_type": "stream",
     "text": [
      "gh f fghfgfj\n",
      "gh\n",
      "{'gh': 1, 'f': 1, 'fghfgfj': 1}\n"
     ]
    }
   ],
   "source": [
    "line = input().replace(\",\", \" \").lower().split()\n",
    "counter = {}\n",
    "for word in line:\n",
    "    counter[word] = counter.get(word, 0) + 1\n",
    "max_count = max(counter.values())\n",
    "most_frequent = [k for k, v in counter.items() if v == max_count]\n",
    "print(most_frequent[0])\n",
    "print(counter)"
   ]
  },
  {
   "cell_type": "code",
   "execution_count": 7,
   "metadata": {},
   "outputs": [
    {
     "name": "stdout",
     "output_type": "stream",
     "text": [
      "['Анастасия', 'Анна', 'Павел', 'Егор', 'Павел', 'Арсений', 'Антон', 'Павел']\n"
     ]
    }
   ],
   "source": [
    "#Напишите функцию find_name(), \n",
    "#которая позволяет найти, в какой из трёх групп студентов чаще всего встречается человек с именем name = \"Павел\".\n",
    "\n",
    "group_1 = \"Антон Ярослав Ксения Мария Павел Егор Тимофей Павел\".split()\n",
    "group_2 = \"Анастасия Анна Павел Егор Павел Арсений Антон Павел\".split()\n",
    "group_3 = \"Татьяна Сергей Михаил Дмитрий Екатерина Полина\".split()\n",
    "\n",
    "def find_name(g):\n",
    "    counter = {}\n",
    "    name = \"Павел\"\n",
    "    for name in g:\n",
    "        counter[name] = counter.get(name, 0) + 1\n",
    "    max_count = max(counter.values())\n",
    "    most_frequent = [k for k, v in counter.items() if v == max_count]\n",
    "    return max_count\n",
    "\n",
    "print_gr = 0\n",
    "count_gr = 0\n",
    "for i in range(1):\n",
    "    i = find_name(group_1)\n",
    "    if i > count_gr:\n",
    "        count_gr = i\n",
    "        print_gr = group_1\n",
    "    else:\n",
    "        break\n",
    "for i in range(1):\n",
    "    i = find_name(group_2)\n",
    "    if i > count_gr:\n",
    "        count_gr = i\n",
    "        print_gr = group_2\n",
    "    else:\n",
    "        break\n",
    "for i in range(1):\n",
    "    i = find_name(group_3)\n",
    "    if i > count_gr:\n",
    "        count_gr = i\n",
    "        print_gr = group_3\n",
    "    else:\n",
    "        break\n",
    "print(print_gr)"
   ]
  },
  {
   "cell_type": "code",
   "execution_count": 8,
   "metadata": {},
   "outputs": [
    {
     "name": "stdout",
     "output_type": "stream",
     "text": [
      "b\n"
     ]
    }
   ],
   "source": [
    "#Определите функцию max_find(), которая реализует способ нахождения ключа по заданному значению через цикл.\n",
    "\n",
    "counter = {\"a\": 2, \"b\": 4, \"c\": 3}\n",
    "count = 4\n",
    "for k, v in counter.items():\n",
    "    if v == count:\n",
    "        most_frequent = k\n",
    "        break\n",
    "print(most_frequent)"
   ]
  },
  {
   "cell_type": "code",
   "execution_count": 9,
   "metadata": {},
   "outputs": [
    {
     "data": {
      "text/plain": [
       "'one two one three one five'"
      ]
     },
     "execution_count": 9,
     "metadata": {},
     "output_type": "execute_result"
    }
   ],
   "source": [
    "#Напишите программу, которая позволяет определить, в какой из строк чаще всего встречается заданное слово.\n",
    "\n",
    "word = \"one\"    \n",
    "strings = {\"string_1\": \"one two one three one five\", \"string_2\": \"one four two\", \"string_3\": \"one nine one two\"}\n",
    "def find_max(word, strings):\n",
    "    max_word = 0\n",
    "    string = \"\"\n",
    "    for k, v in strings.items():\n",
    "        if v.split().count(word) > max_word:\n",
    "            max_word = v.split().count(word)\n",
    "            string = v\n",
    "    return string\n",
    "find_max(word, strings)"
   ]
  },
  {
   "cell_type": "code",
   "execution_count": 10,
   "metadata": {},
   "outputs": [
    {
     "name": "stdout",
     "output_type": "stream",
     "text": [
      "простота и универсальность делают его одним из лучших языков программирования\n"
     ]
    }
   ],
   "source": [
    "def find_one(string):\n",
    "    counter = {}\n",
    "    for word in string:\n",
    "        counter[word] = counter.get(word, 0) + 1\n",
    "    one_frequent = [k for k, v in counter.items() if v == 1]\n",
    "    return \" \".join(one_frequent)\n",
    "string = \"Python простота и универсальность python делают его одним из лучших языков программирования\".lower().split()\n",
    "print(find_one(string))"
   ]
  },
  {
   "cell_type": "code",
   "execution_count": 11,
   "metadata": {},
   "outputs": [
    {
     "name": "stdout",
     "output_type": "stream",
     "text": [
      "python\n"
     ]
    }
   ],
   "source": [
    "def delete_one(string):\n",
    "    counter = {}\n",
    "    for word in string:\n",
    "        counter[word] = counter.get(word, 0) + 1\n",
    "    no_one_frequent = [k for k, v in counter.items() if v != 1]\n",
    "    return \" \".join(no_one_frequent)\n",
    "string = \"Python простота и универсальность python делают его одним из лучших языков программирования\".lower().split()\n",
    "print(delete_one(string))"
   ]
  },
  {
   "cell_type": "code",
   "execution_count": 12,
   "metadata": {},
   "outputs": [
    {
     "data": {
      "text/plain": [
       "[4, 8, 20, 12, 32]"
      ]
     },
     "execution_count": 12,
     "metadata": {},
     "output_type": "execute_result"
    }
   ],
   "source": [
    "#Дан файл JSON, в котором есть массив чисел. \n",
    "#Необходимо сформировать новый массив чисел с таким правилом: \n",
    "#удалить все отрицательные числа, все положительные числа умножить на 4.\n",
    "\n",
    "import json\n",
    "with open('array.json') as f:\n",
    "    file_content = f.read()\n",
    "    data = json.loads(file_content)\n",
    "\n",
    "i = 0\n",
    "while i < len(data):\n",
    "    if data[i] < 0:\n",
    "        data.pop(i)\n",
    "    else:\n",
    "        data[i] = data[i] * 4\n",
    "        i += 1\n",
    "data"
   ]
  },
  {
   "cell_type": "code",
   "execution_count": 13,
   "metadata": {},
   "outputs": [
    {
     "data": {
      "text/plain": [
       "[1, 3, 7, -2, 7, 13]"
      ]
     },
     "execution_count": 13,
     "metadata": {},
     "output_type": "execute_result"
    }
   ],
   "source": [
    "import json\n",
    "with open('array.json') as f:\n",
    "    file_content = f.read()\n",
    "    data = json.loads(file_content)\n",
    "\n",
    "i = 0\n",
    "while i < len(data):\n",
    "    data[i] = data[i] + i\n",
    "    i += 1\n",
    "data"
   ]
  },
  {
   "cell_type": "code",
   "execution_count": 14,
   "metadata": {},
   "outputs": [
    {
     "name": "stdout",
     "output_type": "stream",
     "text": [
      "\"python is an interpreted, object-oriented, high-level programming language with dynamic semantics. its high-level built in data structures, combined with dynamic typing and dynamic binding, make it very attractive for rapid application development, as well as for use as a scripting or glue language to connect existing components together. python's simple, easy to learn syntax emphasizes readability and therefore reduces the cost of program maintenance. python supports modules and packages, which encourages program modularity and code reuse. the python interpreter and the extensive standard library are available in source or binary form without charge for all major platforms, and can be freely distributed.\"\n"
     ]
    }
   ],
   "source": [
    "import json\n",
    "with open('textjson.json') as f:\n",
    "    data = json.load(f)\n",
    "\n",
    "data = data.lower()\n",
    "\n",
    "with open('textjson_1.json', 'w') as f:\n",
    "    json.dump(data, f)\n",
    "with open('textjson_1.json') as f:\n",
    "    print(f.read())"
   ]
  },
  {
   "cell_type": "code",
   "execution_count": 27,
   "metadata": {},
   "outputs": [
    {
     "name": "stdout",
     "output_type": "stream",
     "text": [
      "\"python is an interpreted object-oriented high-level programming language with dynamic semantics its high-level built in data structures, combined with dynamic typing and dynamic binding make it very attractive for rapid application development as well as for use as a scripting or glue language to connect existing components together pythons simple easy to learn syntax emphasizes readability and therefore reduces the cost of program maintenance python supports modules and packages which encourages program modularity and code reuse the python interpreter and the extensive standard library are available in source or binary Form without charge for all major platforms and can be freely distributed\"\n"
     ]
    }
   ],
   "source": [
    "import json\n",
    "with open('json_to_delete.json') as f:\n",
    "    data = json.load(f)\n",
    "\n",
    "line = data.split()\n",
    "counter = {}\n",
    "for word in line:\n",
    "    counter[word] = counter.get(word, 0) + 1\n",
    "\n",
    "most_count = max(counter.values())\n",
    "most_frequent = [k for k, v in counter.items() if v == max_count]\n",
    "\n",
    "while most_frequent[0] in line:\n",
    "    i = line.index(most_frequent[0])\n",
    "    line.remove(most_frequent[0])\n",
    "\n",
    "with open('textjson_delete.json', 'w') as f:\n",
    "    json.dump(\"\".join(data), f)\n",
    "with open('textjson_delete.json') as f:\n",
    "    print(f.read())"
   ]
  },
  {
   "cell_type": "code",
   "execution_count": null,
   "metadata": {},
   "outputs": [],
   "source": []
  }
 ],
 "metadata": {
  "kernelspec": {
   "display_name": "Python 3",
   "language": "python",
   "name": "python3"
  },
  "language_info": {
   "codemirror_mode": {
    "name": "ipython",
    "version": 3
   },
   "file_extension": ".py",
   "mimetype": "text/x-python",
   "name": "python",
   "nbconvert_exporter": "python",
   "pygments_lexer": "ipython3",
   "version": "3.7.6"
  }
 },
 "nbformat": 4,
 "nbformat_minor": 4
}
