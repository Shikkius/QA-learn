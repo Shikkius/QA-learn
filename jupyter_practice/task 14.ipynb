{
 "cells": [
  {
   "cell_type": "code",
   "execution_count": 3,
   "metadata": {},
   "outputs": [
    {
     "name": "stdout",
     "output_type": "stream",
     "text": [
      "Where have you been?\n",
      "Been searching all \n"
     ]
    }
   ],
   "source": [
    "myFile = open('filename.txt')\n",
    "print(myFile.read(40))"
   ]
  },
  {
   "cell_type": "code",
   "execution_count": 5,
   "metadata": {},
   "outputs": [
    {
     "name": "stdout",
     "output_type": "stream",
     "text": [
      "Where have you been?\n",
      "\n"
     ]
    }
   ],
   "source": [
    "myFile = open('filename.txt')\n",
    "print(myFile.readline())"
   ]
  },
  {
   "cell_type": "code",
   "execution_count": 6,
   "metadata": {},
   "outputs": [
    {
     "name": "stdout",
     "output_type": "stream",
     "text": [
      "['Where have you been?\\n', 'Been searching all along\\n', 'Came facing twilight on and on\\n', 'Without a clue\\n', 'Without a sign\\n', 'Without grasping yet\\n', 'The real question to be asked\\n', 'Where have I been?\\n', \"I'm a shape shifter\\n\", \"At Poe's masquerade\\n\", 'Hiding both face and mind\\n', 'All free for you to draw\\n', \"I'm a shape shifter\\n\", 'What else should I be?\\n', \"Please don't take off my mask\\n\", 'Revealing dark\\n', 'Moments of calm\\n', 'Nothing left to be found\\n', 'A mirror right in front of me\\n', \"That's where I find\\n\", 'An empty glass\\n', 'Reflecting the sad truth\\n', \"It's telling words not to be told\\n\", 'I need the mask\\n', \"I'm a shape shifter\\n\", \"At Poe's masquerade\\n\", 'Hiding both face and mind\\n', 'All free for you to draw\\n', \"I'm a shape shifter\\n\", 'Chained down to my core\\n', \"Please don't take off my mask\\n\", 'My place to hide\\n', \"I can't tell you\\n\", 'How to see me\\n', 'Just a cage of bones\\n', \"There's nothing inside\\n\", 'Will it unleash me?\\n', 'Burning down the walls\\n', 'Is there a way\\n', 'For me to break?\\n', \"I'm a shape shifter\\n\", \"At Poe's masquerade\\n\", 'Hiding both face and mind\\n', 'All free for you to draw\\n', \"I'm a shape shifter\\n\", 'Have no face to show\\n', \"Please don't take off my mask\\n\", 'My disguise']\n"
     ]
    }
   ],
   "source": [
    "myFile = open('filename.txt')\n",
    "print(myFile.readlines())"
   ]
  },
  {
   "cell_type": "code",
   "execution_count": 7,
   "metadata": {},
   "outputs": [
    {
     "name": "stdout",
     "output_type": "stream",
     "text": [
      "Where have you been?\n",
      "\n",
      "Been searching all along\n",
      "\n",
      "Came facing twilight on and on\n",
      "\n",
      "Without a clue\n",
      "\n",
      "Without a sign\n",
      "\n",
      "Without grasping yet\n",
      "\n",
      "The real question to be asked\n",
      "\n",
      "Where have I been?\n",
      "\n",
      "I'm a shape shifter\n",
      "\n",
      "At Poe's masquerade\n",
      "\n",
      "Hiding both face and mind\n",
      "\n",
      "All free for you to draw\n",
      "\n",
      "I'm a shape shifter\n",
      "\n",
      "What else should I be?\n",
      "\n",
      "Please don't take off my mask\n",
      "\n",
      "Revealing dark\n",
      "\n",
      "Moments of calm\n",
      "\n",
      "Nothing left to be found\n",
      "\n",
      "A mirror right in front of me\n",
      "\n",
      "That's where I find\n",
      "\n",
      "An empty glass\n",
      "\n",
      "Reflecting the sad truth\n",
      "\n",
      "It's telling words not to be told\n",
      "\n",
      "I need the mask\n",
      "\n",
      "I'm a shape shifter\n",
      "\n",
      "At Poe's masquerade\n",
      "\n",
      "Hiding both face and mind\n",
      "\n",
      "All free for you to draw\n",
      "\n",
      "I'm a shape shifter\n",
      "\n",
      "Chained down to my core\n",
      "\n",
      "Please don't take off my mask\n",
      "\n",
      "My place to hide\n",
      "\n",
      "I can't tell you\n",
      "\n",
      "How to see me\n",
      "\n",
      "Just a cage of bones\n",
      "\n",
      "There's nothing inside\n",
      "\n",
      "Will it unleash me?\n",
      "\n",
      "Burning down the walls\n",
      "\n",
      "Is there a way\n",
      "\n",
      "For me to break?\n",
      "\n",
      "I'm a shape shifter\n",
      "\n",
      "At Poe's masquerade\n",
      "\n",
      "Hiding both face and mind\n",
      "\n",
      "All free for you to draw\n",
      "\n",
      "I'm a shape shifter\n",
      "\n",
      "Have no face to show\n",
      "\n",
      "Please don't take off my mask\n",
      "\n",
      "My disguise\n"
     ]
    }
   ],
   "source": [
    "myFile = open('filename.txt')\n",
    "for line in myFile:\n",
    "    print(line)"
   ]
  },
  {
   "cell_type": "code",
   "execution_count": 8,
   "metadata": {},
   "outputs": [],
   "source": [
    "myFile = open('namefile.txt', 'w')\n",
    "myFile.write('tttt')\n",
    "print('zzzz', file=myFile)"
   ]
  },
  {
   "cell_type": "code",
   "execution_count": 9,
   "metadata": {},
   "outputs": [],
   "source": [
    "#Напишите программу, которая получает от пользователя имя файла, открывает этот файл в текущем каталоге, \n",
    "#читает его и выводит два слова: наиболее часто встречающееся из тех, что имеют размер более трех символов \n",
    "#и наиболее длинное слово на английском языке.В файле ожидается смешанный текст на русском-английском языке."
   ]
  },
  {
   "cell_type": "code",
   "execution_count": 43,
   "metadata": {},
   "outputs": [
    {
     "name": "stdout",
     "output_type": "stream",
     "text": [
      "Название файла: filename.txt\n",
      "Список самых частых слов длинной более 3х символов: ['shape', 'shifter']\n",
      "Список самых длинных английскиих слов: ['Reflecting', 'masquerade']\n"
     ]
    }
   ],
   "source": [
    "def changeText(text):\n",
    "    for i in '!\"\\'#$%&()*+-,/:;<=>?@[\\\\]^_{|}~':\n",
    "        text = text.replace(i, '')\n",
    "        \n",
    "    return text.split()\n",
    "def mostCommon(text, lenght = 0):\n",
    "    most_common = []\n",
    "    qty_most_common = 0\n",
    "    \n",
    "    for item in text:\n",
    "        if len(item) > lenght:\n",
    "            qty = text.count(item)\n",
    "            if qty > qty_most_common and qty > 2:\n",
    "                qty_most_common = qty\n",
    "                most_common = [item]\n",
    "            elif qty == qty_most_common:\n",
    "                most_common.append(item)\n",
    "            \n",
    "    return list(set(most_common))\n",
    "\n",
    "def mostLenght(text):\n",
    "    most_lenght = []\n",
    "    qty_most_lenght = 0\n",
    "    alphabet = 'abcdefghijklmnopqrstuvwxyzABCDEFGHIJKLMNOPQRSTUVWXYZ'\n",
    "    for item in text:\n",
    "        for char in item:\n",
    "            if char not in alphabet:\n",
    "                charEn = False\n",
    "            else:\n",
    "                charEn = True\n",
    "            \n",
    "        if charEn:\n",
    "            qty = len(item)\n",
    "            if qty > qty_most_lenght:\n",
    "                qty_most_lenght = qty\n",
    "                most_lenght = [item]\n",
    "            elif qty == qty_most_lenght:\n",
    "                most_lenght.append(item)\n",
    "                \n",
    "    return list(set(most_lenght))\n",
    "\n",
    "nameFile = input('Название файла: ')\n",
    "\n",
    "with open(nameFile, encoding='utf8') as f:\n",
    "    fileText = f.read()\n",
    "    \n",
    "fileText = changeText(fileText)\n",
    "print(f'Список самых частых слов длинной более 3х символов: {mostCommon(fileText, 3)}')\n",
    "print(f'Список самых длинных английскиих слов: {mostLenght(fileText)}')"
   ]
  },
  {
   "cell_type": "code",
   "execution_count": null,
   "metadata": {},
   "outputs": [],
   "source": []
  },
  {
   "cell_type": "code",
   "execution_count": null,
   "metadata": {},
   "outputs": [],
   "source": []
  }
 ],
 "metadata": {
  "kernelspec": {
   "display_name": "Python 3",
   "language": "python",
   "name": "python3"
  },
  "language_info": {
   "codemirror_mode": {
    "name": "ipython",
    "version": 3
   },
   "file_extension": ".py",
   "mimetype": "text/x-python",
   "name": "python",
   "nbconvert_exporter": "python",
   "pygments_lexer": "ipython3",
   "version": "3.7.6"
  }
 },
 "nbformat": 4,
 "nbformat_minor": 4
}
