{
 "cells": [
  {
   "cell_type": "code",
   "execution_count": 1,
   "metadata": {},
   "outputs": [
    {
     "name": "stdout",
     "output_type": "stream",
     "text": [
      "Hello, world!\n"
     ]
    }
   ],
   "source": [
    "print('Hello, world!')"
   ]
  },
  {
   "cell_type": "code",
   "execution_count": 2,
   "metadata": {},
   "outputs": [
    {
     "name": "stdout",
     "output_type": "stream",
     "text": [
      "123454321\n"
     ]
    }
   ],
   "source": [
    "print(11111*11111)"
   ]
  },
  {
   "cell_type": "code",
   "execution_count": 3,
   "metadata": {},
   "outputs": [
    {
     "name": "stdout",
     "output_type": "stream",
     "text": [
      "67735745.28902026\n"
     ]
    }
   ],
   "source": [
    "print(20.19**6)"
   ]
  },
  {
   "cell_type": "code",
   "execution_count": 4,
   "metadata": {},
   "outputs": [
    {
     "name": "stdout",
     "output_type": "stream",
     "text": [
      "-1\n"
     ]
    }
   ],
   "source": [
    "print(-7//2%-3)"
   ]
  },
  {
   "cell_type": "code",
   "execution_count": 5,
   "metadata": {
    "scrolled": true
   },
   "outputs": [
    {
     "data": {
      "text/plain": [
       "5"
      ]
     },
     "execution_count": 5,
     "metadata": {},
     "output_type": "execute_result"
    }
   ],
   "source": [
    "round(((2**3**2-5*5-abs(1/2*(-28+4**2))-50)+19)*0.1**2)"
   ]
  },
  {
   "cell_type": "code",
   "execution_count": 6,
   "metadata": {},
   "outputs": [
    {
     "name": "stdout",
     "output_type": "stream",
     "text": [
      "18\n"
     ]
    }
   ],
   "source": [
    "a=1\n",
    "b=2\n",
    "c=3\n",
    "\n",
    "a=c+1\n",
    "b=c+1\n",
    "c=10\n",
    "\n",
    "print(a+b+c)"
   ]
  },
  {
   "cell_type": "code",
   "execution_count": 7,
   "metadata": {},
   "outputs": [
    {
     "name": "stdout",
     "output_type": "stream",
     "text": [
      "59052\n"
     ]
    }
   ],
   "source": [
    "a=1\n",
    "b=2\n",
    "c=3\n",
    "\n",
    "a+=c+1\n",
    "b-=c+1\n",
    "c**=10\n",
    "\n",
    "print(a+b+c)"
   ]
  },
  {
   "cell_type": "code",
   "execution_count": 8,
   "metadata": {},
   "outputs": [
    {
     "name": "stdout",
     "output_type": "stream",
     "text": [
      "12345\n"
     ]
    }
   ],
   "source": [
    "print('123'+'45')"
   ]
  },
  {
   "cell_type": "code",
   "execution_count": 9,
   "metadata": {},
   "outputs": [
    {
     "name": "stdout",
     "output_type": "stream",
     "text": [
      "В итоге получили строку:перваяСтрвкт\n"
     ]
    }
   ],
   "source": [
    "a = \"Строка первая\"\n",
    "b = 'строка вторая'\n",
    "\n",
    "a += a\n",
    "b *= 2\n",
    "\n",
    "#А вот тут у нас коммент :)\n",
    "\n",
    "print('В итоге получили строку:' +a[20:]+a[:2]+b[10::-3])"
   ]
  },
  {
   "cell_type": "code",
   "execution_count": 10,
   "metadata": {},
   "outputs": [
    {
     "name": "stdout",
     "output_type": "stream",
     "text": [
      "False\n"
     ]
    }
   ],
   "source": [
    "a = 5\n",
    "b = 10\n",
    "\n",
    "print(b>a*a or b>=3*a and a>b)"
   ]
  },
  {
   "cell_type": "code",
   "execution_count": 11,
   "metadata": {},
   "outputs": [
    {
     "name": "stdout",
     "output_type": "stream",
     "text": [
      "Условия равны\n"
     ]
    }
   ],
   "source": [
    "a=3\n",
    "b=4\n",
    "y=4*a**2+4*a*b+b**2\n",
    "x=(2*a+b)**2\n",
    "\n",
    "if y == x:\n",
    "    print('Условия равны')\n",
    "else:\n",
    "    print('Условия не равны')"
   ]
  },
  {
   "cell_type": "code",
   "execution_count": 12,
   "metadata": {},
   "outputs": [
    {
     "name": "stdout",
     "output_type": "stream",
     "text": [
      "9\n",
      "Нечетное число\n"
     ]
    }
   ],
   "source": [
    "a = int(input())\n",
    "\n",
    "if a % 2 == 0:\n",
    "    print('Четное число')\n",
    "else:\n",
    "    print('Нечетное число')"
   ]
  },
  {
   "cell_type": "code",
   "execution_count": 14,
   "metadata": {},
   "outputs": [
    {
     "name": "stdout",
     "output_type": "stream",
     "text": [
      "3.9\n",
      "Дробное число\n"
     ]
    }
   ],
   "source": [
    "a = float(input())\n",
    "\n",
    "if a % 1 == 0:\n",
    "    print('Целое число')\n",
    "else:\n",
    "    print('Дробное число')"
   ]
  },
  {
   "cell_type": "code",
   "execution_count": 15,
   "metadata": {},
   "outputs": [
    {
     "name": "stdout",
     "output_type": "stream",
     "text": [
      "16\n"
     ]
    }
   ],
   "source": [
    "i = 0\n",
    "while i <= 10:\n",
    "    i += 1\n",
    "    if i > 7:\n",
    "        i *= 2\n",
    "print(i)"
   ]
  },
  {
   "cell_type": "code",
   "execution_count": 16,
   "metadata": {},
   "outputs": [
    {
     "name": "stdout",
     "output_type": "stream",
     "text": [
      "b = 0\n",
      "------\n",
      "1\n",
      "------\n",
      "2\n",
      "3\n",
      "Конец\n"
     ]
    }
   ],
   "source": [
    "a = 1\n",
    "b = 0\n",
    "while True:\n",
    "    if b == 0:\n",
    "        print('b = 0')\n",
    "    else:\n",
    "        print(a)\n",
    "        a += 1\n",
    "    b += 1\n",
    "    if b == 3:\n",
    "        continue\n",
    "    if b == 4:\n",
    "        break\n",
    "    print('------')\n",
    "print('Конец')"
   ]
  },
  {
   "cell_type": "code",
   "execution_count": 17,
   "metadata": {},
   "outputs": [
    {
     "name": "stdout",
     "output_type": "stream",
     "text": [
      "Сторона a: 3\n",
      "Сторона b: 4\n",
      "Сторона c: 5\n",
      "S = 6.0\n"
     ]
    }
   ],
   "source": [
    "a = float(input('Сторона a: '))\n",
    "b = float(input('Сторона b: '))\n",
    "c = float(input('Сторона c: '))\n",
    "\n",
    "p = (a + b + c)/2\n",
    "\n",
    "S = (p * (p - a) * (p - b) * (p - c)) ** 0.5\n",
    "\n",
    "print(f'S = {round(S,10)}')"
   ]
  },
  {
   "cell_type": "code",
   "execution_count": 18,
   "metadata": {},
   "outputs": [
    {
     "name": "stdout",
     "output_type": "stream",
     "text": [
      "-1\n"
     ]
    }
   ],
   "source": [
    "a = 'sdjfhsjdf  sijdhfdf hdsjfdsbf fdf ffdsfsf'\n",
    "\n",
    "print(a.find('string'))"
   ]
  },
  {
   "cell_type": "code",
   "execution_count": 19,
   "metadata": {},
   "outputs": [
    {
     "name": "stdout",
     "output_type": "stream",
     "text": [
      "Год: 2000\n",
      "Високосный год\n"
     ]
    }
   ],
   "source": [
    "a = int(input('Год: '))\n",
    "\n",
    "if a % 400 == 0 or (a % 100 != 0 and a % 4 == 0):\n",
    "    print('Високосный год')\n",
    "else:\n",
    "    print('Обычный год')"
   ]
  },
  {
   "cell_type": "code",
   "execution_count": 20,
   "metadata": {},
   "outputs": [
    {
     "name": "stdout",
     "output_type": "stream",
     "text": [
      "Сумма вклада: 1000\n",
      "Количество месяцев вклада: 2\n",
      "1006\n"
     ]
    }
   ],
   "source": [
    "a = int(input('Сумма вклада: '))\n",
    "b = int(input('Количество месяцев вклада: '))\n",
    "\n",
    "c = 0\n",
    "\n",
    "while c < b:\n",
    "    a += a * (0.0418 / 12)\n",
    "    c += 1\n",
    "\n",
    "print(int(a))"
   ]
  },
  {
   "cell_type": "code",
   "execution_count": null,
   "metadata": {},
   "outputs": [],
   "source": []
  }
 ],
 "metadata": {
  "kernelspec": {
   "display_name": "Python 3",
   "language": "python",
   "name": "python3"
  },
  "language_info": {
   "codemirror_mode": {
    "name": "ipython",
    "version": 3
   },
   "file_extension": ".py",
   "mimetype": "text/x-python",
   "name": "python",
   "nbconvert_exporter": "python",
   "pygments_lexer": "ipython3",
   "version": "3.7.6"
  }
 },
 "nbformat": 4,
 "nbformat_minor": 4
}
