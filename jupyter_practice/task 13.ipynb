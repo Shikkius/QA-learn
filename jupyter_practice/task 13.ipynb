{
 "cells": [
  {
   "cell_type": "code",
   "execution_count": 1,
   "metadata": {},
   "outputs": [
    {
     "name": "stdout",
     "output_type": "stream",
     "text": [
      "123\n"
     ]
    }
   ],
   "source": [
    "def papas():\n",
    "    print(123)\n",
    "papas()"
   ]
  },
  {
   "cell_type": "code",
   "execution_count": 2,
   "metadata": {},
   "outputs": [
    {
     "name": "stdout",
     "output_type": "stream",
     "text": [
      "36\n"
     ]
    }
   ],
   "source": [
    "def mov(x):\n",
    "    print(x * 2)\n",
    "\n",
    "def mov2(x, y):\n",
    "    t = x * 2 + y * 2\n",
    "    mov(t)\n",
    "\n",
    "def mov3(x, y, z):\n",
    "    t = x*2 + y * 2\n",
    "    mov2(t, z)\n",
    "    \n",
    "mov3(1, 2, 3)"
   ]
  },
  {
   "cell_type": "code",
   "execution_count": 3,
   "metadata": {},
   "outputs": [
    {
     "name": "stdout",
     "output_type": "stream",
     "text": [
      "5\n"
     ]
    }
   ],
   "source": [
    "import math\n",
    "\n",
    "print(math.floor(2.5) + math.ceil(2.5))"
   ]
  },
  {
   "cell_type": "code",
   "execution_count": 4,
   "metadata": {},
   "outputs": [
    {
     "name": "stdout",
     "output_type": "stream",
     "text": [
      "0.5\n"
     ]
    }
   ],
   "source": [
    "std = 42\n",
    "def normalize(value):\n",
    "    result = value/std\n",
    "    return result\n",
    "\n",
    "print(normalize(21))"
   ]
  },
  {
   "cell_type": "code",
   "execution_count": 5,
   "metadata": {},
   "outputs": [
    {
     "name": "stdout",
     "output_type": "stream",
     "text": [
      "0.5\n"
     ]
    }
   ],
   "source": [
    "values=[-7, -7, 7, 7]\n",
    "std=42\n",
    "\n",
    "def count_std():\n",
    "    mean=sum(values)/len(values)\n",
    "    std=(sum([(value-mean)**2 for value in values])/len(values))**0.5\n",
    "    return std\n",
    "\n",
    "def normalize(value):\n",
    "    result = value/std\n",
    "    return result\n",
    "\n",
    "print(normalize(21))"
   ]
  },
  {
   "cell_type": "code",
   "execution_count": 6,
   "metadata": {},
   "outputs": [
    {
     "name": "stdout",
     "output_type": "stream",
     "text": [
      "Введите число: 9\n",
      "Сумма всех цифр ф-ла, стоящих на нечетных позициях ряда длиной 9, равна: 368047\n"
     ]
    }
   ],
   "source": [
    "def fac(n):\n",
    "    if n == 0:\n",
    "        return 1\n",
    "    return fac(n-1) * n\n",
    "\n",
    "number = int(input('Введите число: '))\n",
    "row = []\n",
    "\n",
    "for i in range (number + 1):\n",
    "    if i % 2 != 0:\n",
    "        row.append(fac(i))\n",
    "        \n",
    "Sum = 0\n",
    "for j in row:\n",
    "    Sum += j\n",
    "    \n",
    "print(f'Сумма всех цифр ф-ла, стоящих на нечетных позициях ряда длиной {number}, равна: {Sum}')"
   ]
  },
  {
   "cell_type": "code",
   "execution_count": 7,
   "metadata": {},
   "outputs": [],
   "source": [
    "#datetime.strptime(date_string, format) - преобразует строку в datetime\n",
    "#datetime.strftime(format) = time.strftime(формат, [t]) - преобразует кортеж или struct_time в строку по формату:\n",
    "#(%A - Полное название дня недели)\n",
    "#datetime.weekday() - день недели в виде числа, понедельник - 0, воскресенье - 6.\n",
    "#datetime.timedelta отображает длительность времени. это разница между двумя датами или временными отметками."
   ]
  },
  {
   "cell_type": "code",
   "execution_count": 8,
   "metadata": {},
   "outputs": [
    {
     "name": "stdout",
     "output_type": "stream",
     "text": [
      "Введите год в формате ГГГГ: 2020\n",
      "Введите месяц в формате ММ: 08\n",
      "Введите день в формате ДД: 19\n",
      "Дата начала: 2020-08-19\n",
      "19 08 2020 Wednesday\n",
      "21 08 2020 Friday\n",
      "24 08 2020 Monday\n",
      "26 08 2020 Wednesday\n",
      "28 08 2020 Friday\n",
      "31 08 2020 Monday\n",
      "02 09 2020 Wednesday\n",
      "04 09 2020 Friday\n",
      "07 09 2020 Monday\n",
      "09 09 2020 Wednesday\n",
      "11 09 2020 Friday\n",
      "14 09 2020 Monday\n",
      "16 09 2020 Wednesday\n",
      "18 09 2020 Friday\n",
      "Дата конца: 2020-09-18\n"
     ]
    }
   ],
   "source": [
    "import datetime as DT\n",
    "\n",
    "year = int(input('Введите год в формате ГГГГ: '))\n",
    "month = int(input('Введите месяц в формате ММ: '))\n",
    "day = int(input('Введите день в формате ДД: '))\n",
    "count = 30\n",
    "\n",
    "date = DT.date(year, month, day)\n",
    "dateEnd = date + DT.timedelta(days=count)\n",
    "cntDay = 0\n",
    "cntDelta = 0\n",
    "wkd = 0\n",
    "print(f'Дата начала: {date}')\n",
    "\n",
    "for i in range(20):\n",
    "    i = date + DT.timedelta(days=cntDelta)\n",
    "    wkd = i.weekday()\n",
    "    cntDay = i\n",
    "    if cntDay <= dateEnd and wkd < 6:\n",
    "        cntDelta += 2\n",
    "        cntDay = DT.datetime.strftime(cntDay, '%d %m %Y %A')      \n",
    "        i = cntDay\n",
    "        print(i)\n",
    "    elif cntDay <= dateEnd and wkd == 6:\n",
    "        cntDelta += 1\n",
    "        continue\n",
    "    else:\n",
    "        break\n",
    "print(f'Дата конца: {dateEnd}')"
   ]
  },
  {
   "cell_type": "code",
   "execution_count": null,
   "metadata": {},
   "outputs": [],
   "source": []
  }
 ],
 "metadata": {
  "kernelspec": {
   "display_name": "Python 3",
   "language": "python",
   "name": "python3"
  },
  "language_info": {
   "codemirror_mode": {
    "name": "ipython",
    "version": 3
   },
   "file_extension": ".py",
   "mimetype": "text/x-python",
   "name": "python",
   "nbconvert_exporter": "python",
   "pygments_lexer": "ipython3",
   "version": "3.7.6"
  }
 },
 "nbformat": 4,
 "nbformat_minor": 4
}
