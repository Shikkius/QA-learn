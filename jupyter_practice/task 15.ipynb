{
 "cells": [
  {
   "cell_type": "code",
   "execution_count": 1,
   "metadata": {},
   "outputs": [
    {
     "name": "stdout",
     "output_type": "stream",
     "text": [
      "Этот продукт есть в списке\n"
     ]
    }
   ],
   "source": [
    "shop_list = ['арбуз', 'макароны', 'сосиски', 'хлеб', 'ягоды']\n",
    "i = len(shop_list) // 2\n",
    "while i != 0 or i != (len(shop_list) - 1):\n",
    "    if shop_list[i] == 'сосиски':\n",
    "        print('Этот продукт есть в списке')\n",
    "        break\n",
    "    elif shop_list[i] > 'сосики':\n",
    "        i = i / 2\n",
    "        print(i)\n",
    "    else:\n",
    "        i = i + i/2\n",
    "        print(i)"
   ]
  },
  {
   "cell_type": "code",
   "execution_count": 2,
   "metadata": {},
   "outputs": [
    {
     "name": "stdout",
     "output_type": "stream",
     "text": [
      "[3, 4, 5, 6, 7, 8, 9, 10, 11, 12, 13]\n"
     ]
    }
   ],
   "source": [
    "R = []\n",
    "for i in range(0,11):\n",
    "    R.append(i+3)\n",
    "for i in range(0,11):\n",
    "    S = R[10-i]\n",
    "    R[10-i] = S\n",
    "print(R)"
   ]
  },
  {
   "cell_type": "code",
   "execution_count": 3,
   "metadata": {},
   "outputs": [],
   "source": [
    "#Эта задача на применение слияния, метода append.\n",
    "#Даны два целочисленных списка A и B, которые упорядочены по неубыванию. \n",
    "#Необходимо их объединить в один упорядоченный список, например, С (то есть он должен содержать len(A)+len(B) элементов).\n",
    "#Решение оформите в виде функции merge(A, B), которая возвращает новый список. \n",
    "#Алгоритм должен иметь сложность O(len(A)+len(B))."
   ]
  },
  {
   "cell_type": "code",
   "execution_count": 4,
   "metadata": {},
   "outputs": [
    {
     "name": "stdout",
     "output_type": "stream",
     "text": [
      "[1, 2, 3, 4, 5, 8, 14, 15, 16, 18, 19, 33, 50, 60, 78, 80, 93]\n",
      "[1, 2, 3, 4, 5, 8, 14, 15, 16, 18, 19, 33, 50, 60, 78, 80, 93]\n"
     ]
    }
   ],
   "source": [
    "A = [4, 8, 1, 16, 33, 19, 80, 15]\n",
    "B = [50, 18, 3, 5, 2, 60, 78, 93, 14]\n",
    "\n",
    "A = sorted(A)\n",
    "B = sorted(B)\n",
    "\n",
    "lA = len(A)\n",
    "lB = len(B)\n",
    "N = lA + lB\n",
    "\n",
    "C = []\n",
    "i = 0\n",
    "j = 0\n",
    "for L in range(N-1):\n",
    "    if A[i] < B[j]:\n",
    "        C.append(A[i])\n",
    "        i += 1\n",
    "    elif A[i] == B [j]:\n",
    "        C.append(A[i])\n",
    "        i += 1\n",
    "        j += 1\n",
    "    else:\n",
    "        C.append(B[j])\n",
    "        j += 1\n",
    "\n",
    "def CL():\n",
    "    a = A + B\n",
    "    b = C\n",
    "    D = list(set(a) - set(b))\n",
    "    F = b + D\n",
    "    print(F)\n",
    "\n",
    "CL()\n",
    "\n",
    "print(sorted(A+B))\n",
    "\n",
    "#Маша молодец, Маша сделала костыль!"
   ]
  },
  {
   "cell_type": "code",
   "execution_count": 5,
   "metadata": {},
   "outputs": [
    {
     "name": "stdout",
     "output_type": "stream",
     "text": [
      "[1, 2, 3, 4, 5, 8, 14, 15, 16, 18, 19, 33, 50, 60, 78, 80, 93]\n"
     ]
    }
   ],
   "source": [
    "#а вот это не костыль, спасибо ментору\n",
    "\n",
    "def merge(a, b):\n",
    "    new_list = []\n",
    "    c = a + b\n",
    "    while c:\n",
    "        delete_num = min(c)\n",
    "        while delete_num in c:\n",
    "            new_list.append(delete_num)\n",
    "            c.remove(delete_num)\n",
    "    return new_list\n",
    "    \n",
    "A = [4, 8, 1, 16, 33, 19, 80, 15]\n",
    "B = [50, 18, 3, 5, 2, 60, 78, 93, 14]\n",
    "C = merge(A,B)\n",
    "print(C)"
   ]
  },
  {
   "cell_type": "code",
   "execution_count": 6,
   "metadata": {},
   "outputs": [
    {
     "name": "stdout",
     "output_type": "stream",
     "text": [
      "86\n"
     ]
    }
   ],
   "source": [
    "def bubble_sort(A):\n",
    "    N = len(A)\n",
    "    for i in range(N-1):\n",
    "        for j in range(N-i-1):\n",
    "            if A[j] < A[j+1]:\n",
    "                A[j], A[j+1] = A[j+1], A[j]\n",
    "    return A\n",
    "a = [2, 7, 3, 8, 78, 34, 67, 33, 8]\n",
    "bubble_sort(a)\n",
    "print(a[0] + a[5])\n",
    "\n",
    "#пузырьковая сортировка"
   ]
  },
  {
   "cell_type": "code",
   "execution_count": 7,
   "metadata": {},
   "outputs": [
    {
     "name": "stdout",
     "output_type": "stream",
     "text": [
      "12, 12, 55, 58, 67, 72, 77, 81, 88, 93\n"
     ]
    }
   ],
   "source": [
    "A = [93, 12, 67, 77, 12, 81, 88, 58, 72, 55]\n",
    "i = 0\n",
    "N = len(A)\n",
    "while i < N-1:\n",
    "    j = 0\n",
    "    while j < N-i-1:\n",
    "        if A[j] > A[j+1]:\n",
    "            A[j], A[j+1] = A[j+1], A[j]\n",
    "        j += 1\n",
    "    i += 1\n",
    "print(', '.join(map(str, A)))\n",
    "\n",
    "#пузырьковая сортировка"
   ]
  },
  {
   "cell_type": "code",
   "execution_count": 8,
   "metadata": {},
   "outputs": [
    {
     "name": "stdout",
     "output_type": "stream",
     "text": [
      "178, 79, 34, 33, 15, 8, 7, 5, 1\n"
     ]
    }
   ],
   "source": [
    "def insertion(A):\n",
    "    for i in range(1, len(A)):\n",
    "        b = A[i]\n",
    "        j = i - 1\n",
    "        while (j >= 0) and (b > A[j]):\n",
    "            A[j+1] = A[j]\n",
    "            j -= 1\n",
    "        A[j+1] = b\n",
    "    return A\n",
    "a = [5, 7, 1, 8, 178, 34, 79, 33, 15]\n",
    "insertion(a)\n",
    "print(', '.join(map(str, a)))\n",
    "\n",
    "#сортировка вставками"
   ]
  },
  {
   "cell_type": "code",
   "execution_count": 9,
   "metadata": {},
   "outputs": [
    {
     "name": "stdout",
     "output_type": "stream",
     "text": [
      "Изначальный список: [25, 66, 31, 37, 76, 60, 38, 80, 20, 27]\n",
      "Сортировка пузырьком: [20, 25, 27, 31, 37, 38, 60, 66, 76, 80]\n",
      "Сортировка вставками: [20, 25, 27, 31, 37, 38, 60, 66, 76, 80]\n",
      "Количество перестановок при пузырьковой сотрировке: 22\n",
      "Количество перестановок при сортировке вставками: 9\n",
      "Разница в перестановках: 13\n"
     ]
    }
   ],
   "source": [
    "#Напишите программу, которая сравнивает количество перестановок\n",
    "#при сортировке одного и того же списка методом пузырька и методом вставок\n",
    "\n",
    "#заводим псевдорандомный список\n",
    "from random import randint\n",
    "\n",
    "CBL = 0\n",
    "def bubble_sort(A):\n",
    "    global CBL\n",
    "    for i in range(N-1):\n",
    "        for j in range(N-i-1):\n",
    "            if A[j] > A[j+1]:\n",
    "                A[j], A[j+1] = A[j+1], A[j]\n",
    "                CBL += 1\n",
    "    return A\n",
    "\n",
    "N = 10\n",
    "A = []\n",
    "for i in range(N):\n",
    "    A.append(randint(1, 99))\n",
    "print(f'Изначальный список: {A}')\n",
    "\n",
    "CINS = 0\n",
    "def insertion(A):\n",
    "    for i in range(1, len(A)):\n",
    "        b = A[i]\n",
    "        j = i - 1\n",
    "        global CINS\n",
    "        while (j >= 0) and (b < A[j]):\n",
    "            A[j+1] = A[j]\n",
    "            j -= 1\n",
    "        A[j+1] = b\n",
    "        CINS += 1\n",
    "    return A\n",
    "\n",
    "bubble_sort(A)\n",
    "insertion(A)\n",
    "print(f'Сортировка пузырьком: {A}')\n",
    "print(f'Сортировка вставками: {A}')\n",
    "print(f'Количество перестановок при пузырьковой сотрировке: {CBL}')\n",
    "print(f'Количество перестановок при сортировке вставками: {CINS}')\n",
    "print(f'Разница в перестановках: {(CBL) - (CINS)}')"
   ]
  },
  {
   "cell_type": "code",
   "execution_count": 10,
   "metadata": {},
   "outputs": [
    {
     "name": "stdout",
     "output_type": "stream",
     "text": [
      "4\n"
     ]
    }
   ],
   "source": [
    "L = [24, 45, 2, 3, 2]\n",
    "Llen = len(set(sorted(L)))\n",
    "print(Llen)"
   ]
  },
  {
   "cell_type": "code",
   "execution_count": 11,
   "metadata": {},
   "outputs": [
    {
     "name": "stdout",
     "output_type": "stream",
     "text": [
      "Лена : 14 Катя : 22 Петя : 23 Вася : 40 "
     ]
    }
   ],
   "source": [
    "#15.4.2\n",
    "dict_to_sort = {\"Петя\": 23, \"Вася\": 40, \"Лена\": 14, \"Катя\": 22}\n",
    "to_list = list(dict_to_sort.items())\n",
    "dictsort = sorted(to_list, key = lambda age: age[1])\n",
    "for i in dictsort:\n",
    "    print(i[0], ':', str(i[1]), end = ' ')"
   ]
  },
  {
   "cell_type": "code",
   "execution_count": 12,
   "metadata": {},
   "outputs": [
    {
     "name": "stdout",
     "output_type": "stream",
     "text": [
      "13, 12, 25, 47, 5, 77\n"
     ]
    }
   ],
   "source": [
    "#15.4.3\n",
    "list_to_sort = [25, 47, 13, 5, 77, 12]\n",
    "list_to_sort.sort(key = lambda x: str(x)[0])\n",
    "list_to_sort = [str(item) for item in list_to_sort]\n",
    "print(\", \".join(list_to_sort))"
   ]
  },
  {
   "cell_type": "code",
   "execution_count": 13,
   "metadata": {},
   "outputs": [
    {
     "name": "stdout",
     "output_type": "stream",
     "text": [
      "Изначальный список: [-793, -307, -183, -345, -671, -173, 71, -911, 773, -452, 24, 240, 346, -810, -10]\n",
      "Сортировка по возрастанию: [-911, -810, -793, -671, -452, -345, -307, -183, -173, -10, 24, 71, 240, 346, 773]\n",
      "Сортировка по убыванию: [773, 346, 240, 71, 24, -10, -173, -183, -307, -345, -452, -671, -793, -810, -911]\n"
     ]
    }
   ],
   "source": [
    "#15.4.5\n",
    "#Вывести в список случайные числа, в промежутке от -1000 до 1000. \n",
    "#Отсортировать элементы списка по возрастанию и убыванию\n",
    "\n",
    "from random import randint\n",
    "N = 15\n",
    "A = []\n",
    "for i in range(N):\n",
    "    A.append(randint(-1000, 1000))\n",
    "print(f'Изначальный список: {A}')\n",
    "print(f'Сортировка по возрастанию: {sorted(A)}')\n",
    "print(f'Сортировка по убыванию: {sorted(A, reverse = True)}')"
   ]
  },
  {
   "cell_type": "code",
   "execution_count": 14,
   "metadata": {},
   "outputs": [
    {
     "name": "stdout",
     "output_type": "stream",
     "text": [
      "2, 21, 38, 54, 10, 22, 33, 45\n"
     ]
    }
   ],
   "source": [
    "#15.4.4\n",
    "A = [2, 54, 38, 21, 10, 22, 45, 33]\n",
    "middle = (len(A)+1) // 2\n",
    "for i in range(middle-1):\n",
    "        for j in range(middle-i-1):\n",
    "            if A[j] > A[j+1]:\n",
    "                A[j], A[j+1] = A[j+1], A[j]\n",
    "for i in range(middle):\n",
    "        for j in range(len(A)-i, len(A)):\n",
    "            if A[j] < A[j-1]:\n",
    "                A[j], A[j-1] = A[j-1], A[j]\n",
    "A = [str(item) for item in A]\n",
    "print(\", \".join(A))"
   ]
  },
  {
   "cell_type": "code",
   "execution_count": 15,
   "metadata": {},
   "outputs": [
    {
     "name": "stdout",
     "output_type": "stream",
     "text": [
      "Алексей\n",
      "Мария\n",
      "['Алексей', 'Татьяна', 'Мария']\n"
     ]
    }
   ],
   "source": [
    "#15.5.3\n",
    "string = [\"Алексей\", \"Георгий\", \"Татьяна\", \"Иван\", \"Мария\", \"София\"]\n",
    "print(string[0])\n",
    "print(string[-2])\n",
    "print(string[::2])"
   ]
  },
  {
   "cell_type": "code",
   "execution_count": 16,
   "metadata": {},
   "outputs": [
    {
     "name": "stdout",
     "output_type": "stream",
     "text": [
      "True\n"
     ]
    }
   ],
   "source": [
    "#15.5.4\n",
    "string = \"А роза упала на лапу Азора\"\n",
    "string = string.replace(' ', '').lower()\n",
    "a = string[::-1]\n",
    "if string == a:\n",
    "    print(True)\n",
    "else:\n",
    "    print(False)"
   ]
  },
  {
   "cell_type": "code",
   "execution_count": 17,
   "metadata": {},
   "outputs": [
    {
     "name": "stdout",
     "output_type": "stream",
     "text": [
      "Введите строку для поиска в нейтриста тридцать три коровы искали в поле молоко\n",
      "Введите символ дл поиска в строкер\n",
      "В строке <<триста тридцать три коровы искали в поле молоко>> найдено: 4 р\n"
     ]
    }
   ],
   "source": [
    "#15.6.1\n",
    "string = input(\"Введите строку для поиска в ней\")\n",
    "letter = input(\"Введите символ дл поиска в строке\")\n",
    "print(\"В строке <<\" + string + \">> найдено:\", string.count(letter), letter)"
   ]
  },
  {
   "cell_type": "code",
   "execution_count": 18,
   "metadata": {},
   "outputs": [
    {
     "name": "stdout",
     "output_type": "stream",
     "text": [
      "4\n",
      "4\n"
     ]
    }
   ],
   "source": [
    "#15.6.2\n",
    "string = \"Сегодня была дождливая погода\"\n",
    "print(len(string.split()))\n",
    "#другой метод - более верный\n",
    "print(string.count(' ') + 1)"
   ]
  },
  {
   "cell_type": "code",
   "execution_count": 19,
   "metadata": {},
   "outputs": [
    {
     "name": "stdout",
     "output_type": "stream",
     "text": [
      "Изначальный список: [52, 24, 46, 82, 65, 58, 27, 77, 69, 32]\n",
      "<built-in function sum>\n"
     ]
    }
   ],
   "source": [
    "#15.6.3\n",
    "from random import randint\n",
    "N = 10\n",
    "A = []\n",
    "for i in range(N):\n",
    "    A.append(randint(1, 99))\n",
    "print(f'Изначальный список: {A}')\n",
    "\n",
    "summa = 0\n",
    "\n",
    "for number in A:\n",
    "    if number > 0:\n",
    "        summa += number\n",
    "print(sum)"
   ]
  },
  {
   "cell_type": "code",
   "execution_count": 20,
   "metadata": {
    "scrolled": true
   },
   "outputs": [
    {
     "name": "stdout",
     "output_type": "stream",
     "text": [
      "25\n"
     ]
    }
   ],
   "source": [
    "#15.6.4\n",
    "A = [1,3,5,7,9]\n",
    "def summa (a):\n",
    "    summ1 = 0\n",
    "    for number in A:\n",
    "        if number > 0:\n",
    "            summ1 += number\n",
    "    return summ1\n",
    "print(summa(A))"
   ]
  },
  {
   "cell_type": "code",
   "execution_count": 21,
   "metadata": {},
   "outputs": [
    {
     "name": "stdout",
     "output_type": "stream",
     "text": [
      "   Витя  32  180  77\n",
      "   Егор  15  165  44\n",
      "   Лена  20  160  45\n",
      " Полина  28  175  65\n"
     ]
    }
   ],
   "source": [
    "#15.6.5\n",
    "a = [['Егор',15,165,44], ['Лена',20,160,45],['Витя',32,180,77],['Полина',28,175,65]]\n",
    "a.sort(key = lambda i: i[0])\n",
    "\n",
    "for i in a:\n",
    "    print('%7s %3d %4d %3d' % (i[0], i[1], i[2], i[3]))"
   ]
  },
  {
   "cell_type": "code",
   "execution_count": 22,
   "metadata": {},
   "outputs": [
    {
     "name": "stdout",
     "output_type": "stream",
     "text": [
      "['Егор', 15, 165, 44], ['Лена', 20, 160, 45], ['Полина', 28, 175, 65], ['Витя', 32, 180, 77]\n"
     ]
    }
   ],
   "source": [
    "#15.6.6\n",
    "a = [['Егор',15,165,44], ['Лена',20,160,45],['Витя',32,180,77],['Полина',28,175,65]]\n",
    "a.sort(key = lambda age: age[1])\n",
    "print(\", \".join([str(i) for i in a]))"
   ]
  },
  {
   "cell_type": "code",
   "execution_count": 23,
   "metadata": {},
   "outputs": [
    {
     "name": "stdout",
     "output_type": "stream",
     "text": [
      "Введите строку:свяжи эту строку в одну\n",
      "свяжиэтустрокуводну\n"
     ]
    }
   ],
   "source": [
    "#15.6.7\n",
    "string = input(\"Введите строку:\")\n",
    "print(string.replace(' ', ''))"
   ]
  },
  {
   "cell_type": "code",
   "execution_count": 24,
   "metadata": {},
   "outputs": [
    {
     "name": "stdout",
     "output_type": "stream",
     "text": [
      "обрый ень!\n"
     ]
    }
   ],
   "source": [
    "#15.6.8\n",
    "string = \"Добрый День!\"\n",
    "for i in string:\n",
    "    if i.isupper():\n",
    "        string = string.replace(i, '')\n",
    "print(string)"
   ]
  },
  {
   "cell_type": "code",
   "execution_count": 25,
   "metadata": {},
   "outputs": [
    {
     "name": "stdout",
     "output_type": "stream",
     "text": [
      "['Катя', 'Петя', 'Ваня', 'Маша']\n"
     ]
    }
   ],
   "source": [
    "#15.6.9\n",
    "string = \"У меня есть несколько лучших друзей Катя Петя Ваня и Маша\".split()\n",
    "names = [i for i in string if i.istitle() == True and string.index(i) != 0]\n",
    "print(names)"
   ]
  },
  {
   "cell_type": "code",
   "execution_count": 26,
   "metadata": {},
   "outputs": [
    {
     "name": "stdout",
     "output_type": "stream",
     "text": [
      "3\n"
     ]
    }
   ],
   "source": [
    "#15.6.10\n",
    "string = \"Когда мне было 8 лет моему другу было 10 а его сестре 15\".split()\n",
    "numbers = [num for num in string if num.isnumeric()]\n",
    "print(len(numbers))"
   ]
  },
  {
   "cell_type": "code",
   "execution_count": null,
   "metadata": {},
   "outputs": [],
   "source": []
  }
 ],
 "metadata": {
  "kernelspec": {
   "display_name": "Python 3",
   "language": "python",
   "name": "python3"
  },
  "language_info": {
   "codemirror_mode": {
    "name": "ipython",
    "version": 3
   },
   "file_extension": ".py",
   "mimetype": "text/x-python",
   "name": "python",
   "nbconvert_exporter": "python",
   "pygments_lexer": "ipython3",
   "version": "3.7.6"
  }
 },
 "nbformat": 4,
 "nbformat_minor": 4
}
